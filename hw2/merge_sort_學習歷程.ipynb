{
 "cells": [
  {
   "cell_type": "markdown",
   "metadata": {},
   "source": [
    "2.**Merge sort合併排序法**. \n",
    "> 利用Divide and Conquer的演算法\n",
    "> 簡單概念：“分裂”到最小（**把數列拆解分割到只有一個元素**），再進行“合併”。    \n",
    "> 採用演算法中分治法 Divide and conquer 的方式來解決排序問題(與Quick Sort一樣)\n",
    "\n",
    "##方法：  \n",
    "依據 左子數列(A) 與 右子數列(B) 的大小，來創建一空數列(C)。  \n",
    "若 A 數列中已無任何元素，將 B 數列中剩餘的所有元素 加入 C 數列。  \n",
    "若 B 數列中已無任何元素，將 A 數列中剩餘的所有元素 加入 C 數列。  \n",
    "比較 A、B 兩數列的最小值，將最小值加入 C 數列。      \n",
    "\n",
    "\n",
    "\n",
    "###mergesort 參考資料：  \n",
    "https://medium.com/appworks-school/初學者學演算法-排序法進階-合併排序法-6252651c6f7e. \n",
    "http://alrightchiu.github.io/SecondRound/comparison-sort-merge-sorthe-bing-pai-xu-fa.html。   \n",
    "https://jason-chen-1992.weebly.com/home/selection-merge-heap. \n",
    "http://spaces.isu.edu.tw/upload/18833/3/web/sorting.htm\n"
   ]
  },
  {
   "cell_type": "markdown",
   "metadata": {},
   "source": [
    "![](https://i.imgur.com/4s9qavI.png)"
   ]
  },
  {
   "cell_type": "code",
   "execution_count": null,
   "metadata": {},
   "outputs": [],
   "source": []
  },
  {
   "cell_type": "code",
   "execution_count": 95,
   "metadata": {},
   "outputs": [],
   "source": [
    "###### merge_sort_ID.py\n",
    "arr = [2,-3,4,11,-6,5.3,7]\n",
    "class Solution(object):\n",
    "    def merge_sort(self,array):\n",
    "        \"\"\"\n",
    "        :type nums: List[int] ex:[3,2,-4,6,4,2,19],[5,1,1,2,0,0]\n",
    "        :rtype: List[int] ex:[-4,2,2,3,4,6,19],[0,0,1,1,2,5]\n",
    "        \"\"\"\n",
    "        if len(array) <= 1:        \n",
    "            return array\n",
    "        else:        #####拆到只剩下一個，這裡是不耗時的\n",
    "            middle=len(array)//2\n",
    "            left_array=array[:middle]\n",
    "            right_array=array[middle:]\n",
    "            merge_sort(left_array)\n",
    "            merge_sort(right_array)\n",
    "\n",
    "            i=0\n",
    "            j=0\n",
    "            a=[]\n",
    "\n",
    "            while i < len(left_array) and j < len(right_array):    #####在左右陣列都還有東西的情況下\n",
    "                if left_array[i] < right_array[j]:                 ####左右比完放入新的陣列\n",
    "                    a.append(left_array.pop(0))\n",
    "                    i+=1\n",
    "                else:\n",
    "                    a.append(right_array.pop(0))\n",
    "                    j+=1\n",
    "\n",
    "\n",
    "            if right_array:      #####當左邊陣列都用完時，右邊直接放下來  #####當右邊陣列都用完時，左邊直接放下來\n",
    "                a+=right_array\n",
    "            else:\n",
    "                a+=left_array\n",
    "                    \n",
    "            return a\n",
    "\n"
   ]
  },
  {
   "cell_type": "code",
   "execution_count": 96,
   "metadata": {},
   "outputs": [
    {
     "data": {
      "text/plain": [
       "[-6, -3, 2, 5.3, 7, 11]"
      ]
     },
     "execution_count": 96,
     "metadata": {},
     "output_type": "execute_result"
    }
   ],
   "source": [
    "Solution().merge_sort(arr)"
   ]
  },
  {
   "cell_type": "code",
   "execution_count": null,
   "metadata": {},
   "outputs": [],
   "source": [
    "####樓下還在修正～～"
   ]
  },
  {
   "cell_type": "code",
   "execution_count": 83,
   "metadata": {},
   "outputs": [],
   "source": [
    "class Solution(object):\n",
    "    \n",
    "    def merge_sort(self,arr):\n",
    "        ans = self.divide(arr)\n",
    "        print(ans)\n",
    "    \n",
    "    def divide(self,arr):\n",
    "        n = len(arr)\n",
    "        if n<1:\n",
    "            return arr\n",
    "        else:\n",
    "            mid=n//2\n",
    "            left_array=arr[:mid]\n",
    "            right_array=arr[mid:]\n",
    "            \n",
    "            \n",
    "            merge=self.merge(left_array,right_array)\n",
    "            left_array = self.divide(left_array)\n",
    "            right_array = self.divide(right_array)\n",
    "        return merge\n",
    "    \n",
    "    def merge(self,left_array,right_array):\n",
    "        newarr=[]\n",
    "        \n",
    "        while left_array and right_array:                      #####在左右陣列都還有東西的情況下\n",
    "            if left_array[0] < right_array[0]:                 ####左右比完放入新的陣列\n",
    "                newarr.append(left_array(0))\n",
    "                left_array.pop(0)\n",
    "            else:\n",
    "                newarr.append(right_array(0))\n",
    "                right_array.pop(0)\n",
    "            \n",
    "        if right_array:      #####當左邊陣列都用完時，右邊直接放下來  #####當右邊陣列都用完時，左邊直接放下來\n",
    "            newarr+=right_array\n",
    "        else:\n",
    "            newarr+=left_array\n",
    "                    \n",
    "        return newarr\n"
   ]
  },
  {
   "cell_type": "code",
   "execution_count": null,
   "metadata": {},
   "outputs": [],
   "source": []
  }
 ],
 "metadata": {
  "kernelspec": {
   "display_name": "Python 3",
   "language": "python",
   "name": "python3"
  },
  "language_info": {
   "codemirror_mode": {
    "name": "ipython",
    "version": 3
   },
   "file_extension": ".py",
   "mimetype": "text/x-python",
   "name": "python",
   "nbconvert_exporter": "python",
   "pygments_lexer": "ipython3",
   "version": "3.7.1"
  }
 },
 "nbformat": 4,
 "nbformat_minor": 2
}
