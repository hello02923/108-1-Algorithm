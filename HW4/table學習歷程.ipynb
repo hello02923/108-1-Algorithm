{
 "cells": [
  {
   "cell_type": "markdown",
   "metadata": {},
   "source": [
    "MD5:\n",
    "將資料（如一段文字）運算變為另一固定長度值，是雜湊演算法的基礎原理。\n",
    "\n",
    "  可以產生出一個128位元（16位元組）的雜湊值（hash value）  \n",
    "    \n",
    "  優點：普遍、穩定、快速，仍廣泛應用於普通資料的錯誤檢查領域。  \n",
    "    \n",
    "  缺點：無法防止碰撞   \n",
    "    \n",
    "資料來源：https://zh.wikipedia.org/wiki/MD5\n",
    "\n",
    "Hash function又叫做雜湊函式，是一種用來加密的方法。\n",
    "\n",
    "一種從任何一種資料中建立小的數字「指紋」的方法。把訊息或資料 (key) 壓縮成摘要，使得資料量變小，將資料的格式固定下來。\n",
    "\n",
    "這裡是用MD5去做轉換，並把轉成16進位的結果再轉為10進位。\n",
    "\n",
    "特性：不可逆，運算快，會衝突（collision）\n"
   ]
  },
  {
   "cell_type": "markdown",
   "metadata": {},
   "source": [
    "資料來源：\n",
    "https://zh.wikipedia.org/wiki/哈希表\n",
    "\n",
    "http://alrightchiu.github.io/SecondRound/hash-tableintrojian-jie.html\n",
    "\n",
    "https://www.nosuchfield.com/2016/07/29/the-python-implementationp-of-HashTable/\n",
    "\n",
    "http://linebylinecode.com/2017/11/24/how-to-implement-a-hash-table-in-python"
   ]
  },
  {
   "cell_type": "markdown",
   "metadata": {},
   "source": [
    "Hash table原理：\n",
    "\n",
    "hash table是hash function的一個主要應用，使用hash table能夠快速的按照關鍵字 (雜湊值)\n",
    "\n",
    "一個好的雜湊函式（包括大多數加密雜湊函式）具有 均勻 的真正隨機輸出。\n",
    "\n",
    "想像成一個櫃子裡有很多抽屜，像是a類放在0號抽屜，b類分在1號抽屜，如果遇上放在相同抽屜就接著放在其後面就好（一個鏈子鍊住）\n",
    "\n",
    "資料來源：https://hackmd.io/@EW34LLeXTra2Oikg0WEQ5Q/HJln3jU_e?type=view"
   ]
  },
  {
   "cell_type": "markdown",
   "metadata": {},
   "source": [
    "![](https://i.imgur.com/M56oKqI.png)"
   ]
  },
  {
   "cell_type": "markdown",
   "metadata": {},
   "source": [
    "h = MD5.new()\n",
    "\n",
    "h.update(key.encode(\"utf-8\"))\n",
    "\n",
    "keycode = int(h.hexdigest(),16)\n",
    "\n",
    "index = keycode % self.capacity\n",
    "\n",
    "我很懶直接都放進去，後來發現寫成一個def就好\n",
    "\n",
    "key先轉成文字/keycode是數字/index是抽屜"
   ]
  },
  {
   "cell_type": "code",
   "execution_count": 15,
   "metadata": {},
   "outputs": [],
   "source": [
    "from Crypto.Hash import MD5\n",
    "class ListNode:\n",
    "    def __init__(self, val):\n",
    "        self.val = val\n",
    "        self.next = None\n",
    "\n",
    "\n",
    "class MyHashSet:\n",
    "    def __init__(self, capacity=5):\n",
    "        self.capacity = capacity\n",
    "        self.data = [None] * capacity\n",
    "        self.size=0\n",
    "\n",
    "    def add(self, key):\n",
    "        h = MD5.new()\n",
    "        h.update(key.encode(\"utf-8\"))\n",
    "        keycode = int(h.hexdigest(),16)\n",
    "        index = keycode % self.capacity\n",
    "\n",
    "        pass\n",
    "\n",
    "    def remove(self, key):\n",
    "        h = MD5.new()\n",
    "        h.update(key.encode(\"utf-8\"))\n",
    "        keycode = int(h.hexdigest(),16)\n",
    "        index = keycode % self.capacity\n",
    "        pass\n",
    "\n",
    "    def contains(self, key):\n",
    "        h = MD5.new()\n",
    "        h.update(key.encode(\"utf-8\"))\n",
    "        keycode = int(h.hexdigest(),16)\n",
    "        index = keycode % self.capacity \n",
    "        \n",
    "        if self.data[index] is None:##找不到的情況\n",
    "            return False     \n",
    "        else:                       ##找到的情況以下\n",
    "            temp = self.data[index]\n",
    "            while temp:             \n",
    "                if temp.val == keycode:\n",
    "                    return True\n",
    "                elif temp.val != keycode:##一條鍊子繼續往下找\n",
    "                    temp = temp.next                   \n",
    "            return False\n"
   ]
  },
  {
   "cell_type": "markdown",
   "metadata": {},
   "source": [
    "先弄找尋，這樣方便等等直接側值"
   ]
  },
  {
   "cell_type": "code",
   "execution_count": null,
   "metadata": {},
   "outputs": [],
   "source": [
    "from Crypto.Hash import MD5\n",
    "class ListNode:\n",
    "    def __init__(self, val):\n",
    "        self.val = val\n",
    "        self.next = None\n",
    "\n",
    "\n",
    "class MyHashSet:\n",
    "    def __init__(self, capacity=5):\n",
    "        self.capacity = capacity\n",
    "        self.data = [None] * capacity\n",
    "        self.size=0\n",
    "\n",
    "    def add(self, key):\n",
    "        h = MD5.new()\n",
    "        h.update(key.encode(\"utf-8\"))\n",
    "        keycode = int(h.hexdigest(),16)\n",
    "        index = keycode % self.capacity\n",
    "        \n",
    "        if not self.data[index]:##沒有就加上去\n",
    "            self.data[index] = ListNode(keycode)\n",
    "        else:##有就再最後面加上去\n",
    "            temp = self.data[index]\n",
    "            while temp.next:\n",
    "                temp = temp.next\n",
    "            temp.next = ListNode(keycode)\n",
    "\n",
    "\n",
    "    def remove(self, key):\n",
    "        h = MD5.new()\n",
    "        h.update(key.encode(\"utf-8\"))\n",
    "        keycode = int(h.hexdigest(),16)\n",
    "        index = keycode % self.capacity\n",
    "        pass\n",
    "\n",
    "    def contains(self, key):\n",
    "        h = MD5.new()\n",
    "        h.update(key.encode(\"utf-8\"))\n",
    "        keycode = int(h.hexdigest(),16)\n",
    "        index = keycode % self.capacity \n",
    "        \n",
    "        if self.data[index] is None:##找不到的情況\n",
    "            return False     \n",
    "        else:                       ##找到的情況以下\n",
    "            temp = self.data[index]\n",
    "            while temp:             \n",
    "                if temp.val == keycode:\n",
    "                    return True\n",
    "                elif temp.val != keycode:##一條鍊子繼續往下找\n",
    "                    temp = temp.next                   \n",
    "            return False\n",
    "\n"
   ]
  },
  {
   "cell_type": "code",
   "execution_count": 25,
   "metadata": {},
   "outputs": [],
   "source": [
    "from Crypto.Hash import MD5\n",
    "class ListNode:\n",
    "    def __init__(self, val):\n",
    "        self.val = val\n",
    "        self.next = None\n",
    "\n",
    "\n",
    "class MyHashSet:\n",
    "    def __init__(self, capacity=5):\n",
    "        self.capacity = capacity\n",
    "        self.data = [None] * capacity\n",
    "        self.size=0\n",
    "\n",
    "    def add(self, key):\n",
    "        h = MD5.new()\n",
    "        h.update(key.encode(\"utf-8\"))\n",
    "        keycode = int(h.hexdigest(),16)\n",
    "        index = keycode % self.capacity\n",
    "\n",
    "        if not self.data[index]:##沒有就加上去\n",
    "            self.data[index] = ListNode(keycode)\n",
    "        else:##有就再最後面加上去\n",
    "            temp = self.data[index]\n",
    "            while temp.next:\n",
    "                temp = temp.next\n",
    "            temp.next = ListNode(keycode)\n",
    "\n",
    "    def remove(self, key):\n",
    "        h = MD5.new()\n",
    "        h.update(key.encode(\"utf-8\"))\n",
    "        keycode = int(h.hexdigest(),16)\n",
    "        index = keycode % self.capacity\n",
    "        \n",
    "        if not self.data[index]:##先找有沒有這個東西\n",
    "            return False\n",
    "        else:\n",
    "            temp=self.data[index]\n",
    "            if temp.val == keycode:\n",
    "                if temp.next is True:##.next有的話就直接連再下一個\n",
    "                    self.data[index]=temp.next\n",
    "                else:##沒有的話就是直接刪掉\n",
    "                    self.data[index] = None\n",
    "            else:\n",
    "                while temp:##往鏈子下繼續找\n",
    "                    if temp.next == keycode:\n",
    "                        temp.next = temp.next.next\n",
    "                        return\n",
    "                    temp = temp.next\n",
    "                return False\n",
    "\n",
    "    def contains(self, key):\n",
    "        h = MD5.new()\n",
    "        h.update(key.encode(\"utf-8\"))\n",
    "        keycode = int(h.hexdigest(),16)\n",
    "        index = keycode % self.capacity \n",
    "        if self.data[index] is None:##找不到的情況\n",
    "            return False     \n",
    "        else:\n",
    "            temp = self.data[index]\n",
    "            while temp:##找到的情況以下\n",
    "                if temp.val == keycode:\n",
    "                    return True\n",
    "                elif temp.val != keycode:##一條鍊子繼續往下找\n",
    "                    temp = temp.next\n",
    "                   \n",
    "            return False"
   ]
  },
  {
   "cell_type": "code",
   "execution_count": 26,
   "metadata": {},
   "outputs": [
    {
     "name": "stdout",
     "output_type": "stream",
     "text": [
      "True\n",
      "True\n",
      "False\n",
      "True\n"
     ]
    },
    {
     "data": {
      "text/plain": [
       "False"
      ]
     },
     "execution_count": 26,
     "metadata": {},
     "output_type": "execute_result"
    }
   ],
   "source": [
    "hashSet = MyHashSet()\n",
    "hashSet.add(\"dog\")\n",
    "hashSet.add(\"pig\")\n",
    "rel = hashSet.contains(\"pig\")\n",
    "print(rel)\n",
    "rel = hashSet.contains(\"dog\")\n",
    "print(rel)\n",
    "rel = hashSet.contains(\"cat\")\n",
    "print(rel)\n",
    "hashSet.add(\"bird\")\n",
    "rel = hashSet.contains(\"bird\")\n",
    "print(rel)\n",
    "hashSet.remove(\"pig\")\n",
    "hashSet.contains(\"pig\")"
   ]
  },
  {
   "cell_type": "code",
   "execution_count": 27,
   "metadata": {},
   "outputs": [
    {
     "name": "stdout",
     "output_type": "stream",
     "text": [
      "False\n",
      "False\n"
     ]
    }
   ],
   "source": [
    "hashSet.remove('grandpa')\n",
    "rel = hashSet.contains('grandpa')\n",
    "print(rel)\n",
    "rel = hashSet.contains('grandma')\n",
    "print(rel)"
   ]
  },
  {
   "cell_type": "markdown",
   "metadata": {},
   "source": [
    "簡單來說，就是add remove contains想來其實很簡單，就是以linkedlist為基底以hash＿table方式往上蓋，主要是理論方面要學，像是hash function是什麼?MD5加密是啥？等等問題才是主要需要學的新知。"
   ]
  },
  {
   "cell_type": "code",
   "execution_count": null,
   "metadata": {},
   "outputs": [],
   "source": []
  },
  {
   "cell_type": "code",
   "execution_count": null,
   "metadata": {},
   "outputs": [],
   "source": []
  },
  {
   "cell_type": "code",
   "execution_count": null,
   "metadata": {},
   "outputs": [],
   "source": []
  }
 ],
 "metadata": {
  "kernelspec": {
   "display_name": "Python 3",
   "language": "python",
   "name": "python3"
  },
  "language_info": {
   "codemirror_mode": {
    "name": "ipython",
    "version": 3
   },
   "file_extension": ".py",
   "mimetype": "text/x-python",
   "name": "python",
   "nbconvert_exporter": "python",
   "pygments_lexer": "ipython3",
   "version": "3.7.1"
  }
 },
 "nbformat": 4,
 "nbformat_minor": 2
}
