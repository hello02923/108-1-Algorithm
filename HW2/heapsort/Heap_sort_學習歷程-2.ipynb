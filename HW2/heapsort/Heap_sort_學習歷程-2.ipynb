{
 "cells": [
  {
   "cell_type": "markdown",
   "metadata": {},
   "source": [
    "\n",
    "###1.**Heap sort推機排序法**. \n",
    "\n",
    "##> Heap 利用在資料結構中二元樹的堆積樹來做資料排序，以改善選擇排序需要做的執行次數。  \n",
    "##> 特性：「parent-child」之關係. \n",
    "       ## 需要連續的空間. \n",
    "       ## 較不穩定. \n",
    "        ## 由左至右都有節點。\n",
    "##> 分成：max heap(大到小)/min heap(小到大)/Min-max heap/Deap  四種  \n",
    "\n",
    "\n",
    "\n",
    "##  **MaxHeapify**  \n",
    "##> 概念：由上而下，對有child的node進行調整。  \n",
    "##a.把「第一個node」和「最後一個node」互換位置。    \n",
    "##b.假裝最後一個node消失不見.   \n",
    "##c.對「第一個node」進行MaxHeapify()。    \n",
    "\n",
    "\n",
    "\n",
    "###heapsort 參考連結:    \n",
    "##https://www.youtube.com/watch?v=MtQL_ll5KhQ.   \n",
    "##https://jason-chen-1992.weebly.com/home/selection-merge-heap. \n",
    "##http://notepad.yehyeh.net/Content/Algorithm/Sort/Heap/Heap.php. \n",
    "##https://zh.wikipedia.org/wiki/堆排序.   \n",
    "#http://alrightchiu.github.io/SecondRound/comparison-sort-heap-sortdui-ji-pai-xu-fa.html"
   ]
  },
  {
   "cell_type": "markdown",
   "metadata": {},
   "source": [
    "![](https://i.imgur.com/ZDmtI4M.png)"
   ]
  },
  {
   "cell_type": "code",
   "execution_count": null,
   "metadata": {},
   "outputs": [],
   "source": []
  },
  {
   "cell_type": "markdown",
   "metadata": {},
   "source": []
  },
  {
   "cell_type": "code",
   "execution_count": null,
   "metadata": {},
   "outputs": [],
   "source": []
  },
  {
   "cell_type": "code",
   "execution_count": null,
   "metadata": {},
   "outputs": [],
   "source": [
    "###初步構想"
   ]
  },
  {
   "cell_type": "code",
   "execution_count": 95,
   "metadata": {},
   "outputs": [],
   "source": [
    "class Solution(object):\n",
    "    \n",
    "\n",
    "\n",
    "    def maxheapify(a,pa,n):\n",
    "        kid=2*pa+1\n",
    "        while kid<=n:       ###向下換確認\n",
    "            if a[pa]<a[kid]:\n",
    "                if a[kid] < a[kid+1]:\n",
    "                    kid+=1\n",
    "                    arr[pa],arr[kid+1]=arr[kid+1],arr[pa]\n",
    "                    pa=kid\n",
    "                    kid=2*pa+1\n",
    "        while pa>1:         #####向上換確認\n",
    "            if a[pa]>a[pa//2]:\n",
    "                a[pa//2],a[pa]=a[pa],a[pa//2]\n",
    "            \n",
    "    def heap(a,n):        ####假設有8個數字 有4個要檢查的\n",
    "        for i in range(n//2-1):\n",
    "            i>0\n",
    "            i=i-1\n",
    "            maxheapify(a,i,n)\n",
    "        \n",
    "    def heapsort(arr):   \n",
    "        if n>1:\n",
    "            a[1],arr[-1]=arr[-1],arr[1]\n",
    "            arr.append(a[-1])\n",
    "        return arr\n",
    "        \n",
    "    \n",
    "\n"
   ]
  },
  {
   "cell_type": "code",
   "execution_count": 96,
   "metadata": {},
   "outputs": [],
   "source": [
    "class Solution(object):\n",
    "    \n",
    "    def maxheapify(self,a,pa,n):\n",
    "        kid=2*pa+1\n",
    "        while kid<n:       ###向下換確認\n",
    "            if a[pa]<a[kid]:\n",
    "                if a[kid]<a[kid+1]:\n",
    "                    kid=kid+1\n",
    "                a[pa],a[kid]=a[kid],a[pa]\n",
    "\n",
    "            elif a[pa]<a[kid+1]:\n",
    "                kid=kid+1\n",
    "                a[pa],a[kid]=a[kid],a[pa]\n",
    "            pa=kid \n",
    "            self.maxheapify(a,pa,n)\n",
    "            \n",
    "    def heap(self, a):        ####假設有8個數字 有4個要檢查的\n",
    "        n=len(a)\n",
    "        i = int(n / 2 - 1)\n",
    "        while i >= 0:\n",
    "            self.maxheapify(a,i,n)\n",
    "            i=i-1\n",
    "        \n",
    "    def heap_sort(self,a):\n",
    "\n",
    "        arr = []\n",
    "        end = len(a)-1\n",
    "        self.heap(a)\n",
    "        \n",
    "        while end>0:\n",
    "            \n",
    "            a[0],a[end]=a[end],a[0]\n",
    "            arr.append(a[end])\n",
    "            self.maxheapify(a,0,end)\n",
    "\n",
    "            end-=1\n",
    "        return arr"
   ]
  },
  {
   "cell_type": "code",
   "execution_count": 97,
   "metadata": {},
   "outputs": [
    {
     "ename": "IndexError",
     "evalue": "list index out of range",
     "output_type": "error",
     "traceback": [
      "\u001b[0;31m---------------------------------------------------------------------------\u001b[0m",
      "\u001b[0;31mIndexError\u001b[0m                                Traceback (most recent call last)",
      "\u001b[0;32m<ipython-input-97-74d5447f8aaf>\u001b[0m in \u001b[0;36m<module>\u001b[0;34m\u001b[0m\n\u001b[1;32m      1\u001b[0m \u001b[0ma\u001b[0m\u001b[0;34m=\u001b[0m\u001b[0;34m[\u001b[0m\u001b[0;36m3\u001b[0m\u001b[0;34m,\u001b[0m\u001b[0;36m1\u001b[0m\u001b[0;34m,\u001b[0m\u001b[0;36m6\u001b[0m\u001b[0;34m,\u001b[0m\u001b[0;36m7\u001b[0m\u001b[0;34m,\u001b[0m\u001b[0;36m8\u001b[0m\u001b[0;34m,\u001b[0m\u001b[0;34m-\u001b[0m\u001b[0;36m2\u001b[0m\u001b[0;34m,\u001b[0m\u001b[0;36m445\u001b[0m\u001b[0;34m,\u001b[0m\u001b[0;34m-\u001b[0m\u001b[0;36m156\u001b[0m\u001b[0;34m]\u001b[0m\u001b[0;34m\u001b[0m\u001b[0;34m\u001b[0m\u001b[0m\n\u001b[0;32m----> 2\u001b[0;31m \u001b[0mSolution\u001b[0m\u001b[0;34m(\u001b[0m\u001b[0;34m)\u001b[0m\u001b[0;34m.\u001b[0m\u001b[0mheap_sort\u001b[0m\u001b[0;34m(\u001b[0m\u001b[0ma\u001b[0m\u001b[0;34m)\u001b[0m\u001b[0;34m\u001b[0m\u001b[0;34m\u001b[0m\u001b[0m\n\u001b[0m\u001b[1;32m      3\u001b[0m \u001b[0mprint\u001b[0m\u001b[0;34m(\u001b[0m\u001b[0marr\u001b[0m\u001b[0;34m)\u001b[0m\u001b[0;34m\u001b[0m\u001b[0;34m\u001b[0m\u001b[0m\n",
      "\u001b[0;32m<ipython-input-96-6b34c9dabfd9>\u001b[0m in \u001b[0;36mheap_sort\u001b[0;34m(self, a)\u001b[0m\n\u001b[1;32m     26\u001b[0m         \u001b[0marr\u001b[0m \u001b[0;34m=\u001b[0m \u001b[0;34m[\u001b[0m\u001b[0;34m]\u001b[0m\u001b[0;34m\u001b[0m\u001b[0;34m\u001b[0m\u001b[0m\n\u001b[1;32m     27\u001b[0m         \u001b[0mend\u001b[0m \u001b[0;34m=\u001b[0m \u001b[0mlen\u001b[0m\u001b[0;34m(\u001b[0m\u001b[0ma\u001b[0m\u001b[0;34m)\u001b[0m\u001b[0;34m-\u001b[0m\u001b[0;36m1\u001b[0m\u001b[0;34m\u001b[0m\u001b[0;34m\u001b[0m\u001b[0m\n\u001b[0;32m---> 28\u001b[0;31m         \u001b[0mself\u001b[0m\u001b[0;34m.\u001b[0m\u001b[0mheap\u001b[0m\u001b[0;34m(\u001b[0m\u001b[0ma\u001b[0m\u001b[0;34m)\u001b[0m\u001b[0;34m\u001b[0m\u001b[0;34m\u001b[0m\u001b[0m\n\u001b[0m\u001b[1;32m     29\u001b[0m \u001b[0;34m\u001b[0m\u001b[0m\n\u001b[1;32m     30\u001b[0m         \u001b[0;32mwhile\u001b[0m \u001b[0mend\u001b[0m\u001b[0;34m>\u001b[0m\u001b[0;36m0\u001b[0m\u001b[0;34m:\u001b[0m\u001b[0;34m\u001b[0m\u001b[0;34m\u001b[0m\u001b[0m\n",
      "\u001b[0;32m<ipython-input-96-6b34c9dabfd9>\u001b[0m in \u001b[0;36mheap\u001b[0;34m(self, a)\u001b[0m\n\u001b[1;32m     19\u001b[0m         \u001b[0mi\u001b[0m \u001b[0;34m=\u001b[0m \u001b[0mint\u001b[0m\u001b[0;34m(\u001b[0m\u001b[0mn\u001b[0m \u001b[0;34m/\u001b[0m \u001b[0;36m2\u001b[0m \u001b[0;34m-\u001b[0m \u001b[0;36m1\u001b[0m\u001b[0;34m)\u001b[0m\u001b[0;34m\u001b[0m\u001b[0;34m\u001b[0m\u001b[0m\n\u001b[1;32m     20\u001b[0m         \u001b[0;32mwhile\u001b[0m \u001b[0mi\u001b[0m \u001b[0;34m>=\u001b[0m \u001b[0;36m0\u001b[0m\u001b[0;34m:\u001b[0m\u001b[0;34m\u001b[0m\u001b[0;34m\u001b[0m\u001b[0m\n\u001b[0;32m---> 21\u001b[0;31m             \u001b[0mself\u001b[0m\u001b[0;34m.\u001b[0m\u001b[0mmaxheapify\u001b[0m\u001b[0;34m(\u001b[0m\u001b[0ma\u001b[0m\u001b[0;34m,\u001b[0m\u001b[0mi\u001b[0m\u001b[0;34m,\u001b[0m\u001b[0mn\u001b[0m\u001b[0;34m)\u001b[0m\u001b[0;34m\u001b[0m\u001b[0;34m\u001b[0m\u001b[0m\n\u001b[0m\u001b[1;32m     22\u001b[0m             \u001b[0mi\u001b[0m\u001b[0;34m=\u001b[0m\u001b[0mi\u001b[0m\u001b[0;34m-\u001b[0m\u001b[0;36m1\u001b[0m\u001b[0;34m\u001b[0m\u001b[0;34m\u001b[0m\u001b[0m\n\u001b[1;32m     23\u001b[0m \u001b[0;34m\u001b[0m\u001b[0m\n",
      "\u001b[0;32m<ipython-input-96-6b34c9dabfd9>\u001b[0m in \u001b[0;36mmaxheapify\u001b[0;34m(self, a, pa, n)\u001b[0m\n\u001b[1;32m      9\u001b[0m                 \u001b[0ma\u001b[0m\u001b[0;34m[\u001b[0m\u001b[0mpa\u001b[0m\u001b[0;34m]\u001b[0m\u001b[0;34m,\u001b[0m\u001b[0ma\u001b[0m\u001b[0;34m[\u001b[0m\u001b[0mkid\u001b[0m\u001b[0;34m]\u001b[0m\u001b[0;34m=\u001b[0m\u001b[0ma\u001b[0m\u001b[0;34m[\u001b[0m\u001b[0mkid\u001b[0m\u001b[0;34m]\u001b[0m\u001b[0;34m,\u001b[0m\u001b[0ma\u001b[0m\u001b[0;34m[\u001b[0m\u001b[0mpa\u001b[0m\u001b[0;34m]\u001b[0m\u001b[0;34m\u001b[0m\u001b[0;34m\u001b[0m\u001b[0m\n\u001b[1;32m     10\u001b[0m \u001b[0;34m\u001b[0m\u001b[0m\n\u001b[0;32m---> 11\u001b[0;31m             \u001b[0;32melif\u001b[0m \u001b[0ma\u001b[0m\u001b[0;34m[\u001b[0m\u001b[0mpa\u001b[0m\u001b[0;34m]\u001b[0m\u001b[0;34m<\u001b[0m\u001b[0ma\u001b[0m\u001b[0;34m[\u001b[0m\u001b[0mkid\u001b[0m\u001b[0;34m+\u001b[0m\u001b[0;36m1\u001b[0m\u001b[0;34m]\u001b[0m\u001b[0;34m:\u001b[0m\u001b[0;34m\u001b[0m\u001b[0;34m\u001b[0m\u001b[0m\n\u001b[0m\u001b[1;32m     12\u001b[0m                 \u001b[0mkid\u001b[0m\u001b[0;34m=\u001b[0m\u001b[0mkid\u001b[0m\u001b[0;34m+\u001b[0m\u001b[0;36m1\u001b[0m\u001b[0;34m\u001b[0m\u001b[0;34m\u001b[0m\u001b[0m\n\u001b[1;32m     13\u001b[0m                 \u001b[0ma\u001b[0m\u001b[0;34m[\u001b[0m\u001b[0mpa\u001b[0m\u001b[0;34m]\u001b[0m\u001b[0;34m,\u001b[0m\u001b[0ma\u001b[0m\u001b[0;34m[\u001b[0m\u001b[0mkid\u001b[0m\u001b[0;34m]\u001b[0m\u001b[0;34m=\u001b[0m\u001b[0ma\u001b[0m\u001b[0;34m[\u001b[0m\u001b[0mkid\u001b[0m\u001b[0;34m]\u001b[0m\u001b[0;34m,\u001b[0m\u001b[0ma\u001b[0m\u001b[0;34m[\u001b[0m\u001b[0mpa\u001b[0m\u001b[0;34m]\u001b[0m\u001b[0;34m\u001b[0m\u001b[0;34m\u001b[0m\u001b[0m\n",
      "\u001b[0;31mIndexError\u001b[0m: list index out of range"
     ]
    }
   ],
   "source": [
    "a=[3,1,6,7,8,-2,445,-156]\n",
    "Solution().heap_sort(a)\n",
    "print(arr)"
   ]
  },
  {
   "cell_type": "code",
   "execution_count": 98,
   "metadata": {},
   "outputs": [],
   "source": [
    "class Solution(object):\n",
    "    \n",
    "    def maxheapify(self, a,pa,n):\n",
    "        kid=2*pa+1\n",
    "        while kid<=n:       ###向下換確認\n",
    "            if a[pa]<a[kid]:\n",
    "                if a[kid]<a[kid+1]:\n",
    "                    kid=kid+1\n",
    "                a[pa],a[kid]=a[kid],a[pa]\n",
    "\n",
    "            elif a[pa]<a[kid+1]:\n",
    "                kid=kid+1\n",
    "                a[pa],a[kid]=a[kid],a[pa]\n",
    "            pa=kid\n",
    "            kid=2*pa+1\n",
    "                \n",
    "        while pa>=1 and a[pa]>a[pa//2]:         #####向上換確認\n",
    "                a[pa//2],a[pa]=a[pa],a[pa//2]\n",
    "                pa=pa//2\n",
    "\n",
    "            \n",
    "    def heap(self, a):        ####假設有8個數字 有4個要檢查的\n",
    "        n=len(a)\n",
    "        for i in range(n//2-1):\n",
    "            self.maxheapify(a,i,n)\n",
    "            i=i-1\n",
    "        \n",
    "    def heap_sort(self,a):\n",
    "\n",
    "        arr = []\n",
    "        end = len(a)-1\n",
    "        while end>0:\n",
    "            \n",
    "            a[0],a[end]=a[end],a[0]\n",
    "            arr.append(a[end])\n",
    "            self.maxheapify(a,0,end)\n",
    "            a.pop\n",
    "            end-=1\n",
    "        return arr"
   ]
  },
  {
   "cell_type": "code",
   "execution_count": 99,
   "metadata": {},
   "outputs": [
    {
     "name": "stdout",
     "output_type": "stream",
     "text": [
      "[445, 1, 8, 7, 6, -2, -156, 3]\n"
     ]
    }
   ],
   "source": [
    "a=[3,1,6,7,8,-2,445,-156]\n",
    "Solution().heap_sort(a)\n",
    "print(a)"
   ]
  },
  {
   "cell_type": "code",
   "execution_count": null,
   "metadata": {},
   "outputs": [],
   "source": []
  },
  {
   "cell_type": "code",
   "execution_count": 100,
   "metadata": {},
   "outputs": [],
   "source": [
    "##樓下真的成功了"
   ]
  },
  {
   "cell_type": "code",
   "execution_count": 101,
   "metadata": {},
   "outputs": [],
   "source": [
    "class Solution(object):\n",
    "    \n",
    "    def maxheapify(self,a,pa,n):\n",
    "        kid=2*pa+1\n",
    "        while kid<n:       ###向下換確認\n",
    "            if kid + 1 < n:\n",
    "                if a[pa]<a[kid]:      ##情況分成三種\n",
    "                    if a[kid]<a[kid+1]:\n",
    "                        kid=kid+1\n",
    "                    a[pa],a[kid]=a[kid],a[pa]\n",
    "\n",
    "                elif a[pa]<a[kid+1]:\n",
    "                    kid=kid+1\n",
    "                    a[pa],a[kid]=a[kid],a[pa]\n",
    "            else:\n",
    "                if a[pa]<a[kid]:\n",
    "                    a[pa],a[kid]=a[kid],a[pa]\n",
    "                break\n",
    "            pa=kid        ###把交換的繼續交換\n",
    "            kid=2*pa+1\n",
    "            \n",
    "            \n",
    "    def heap(self, a):        ####假設有8個數字 有4個要檢查的\n",
    "        n=len(a)\n",
    "        i = int(n / 2 - 1)\n",
    "        while i >= 0:       ####從最後的爸爸開始檢查\n",
    "            self.maxheapify(a,i,n)\n",
    "            i=i-1\n",
    "        \n",
    "    def heap_sort(self,a):\n",
    "\n",
    "        arr = []       \n",
    "        end = len(a)-1\n",
    "        self.heap(a)\n",
    "        \n",
    "        while end>=0:      ####[0],[end]交換,建立一個新的放入,繼續跑\n",
    "            \n",
    "            a[0],a[end]=a[end],a[0]\n",
    "            arr.append(a[end])\n",
    "            self.maxheapify(a,0,end)\n",
    "\n",
    "            end-=1\n",
    "        return arr"
   ]
  },
  {
   "cell_type": "code",
   "execution_count": 102,
   "metadata": {},
   "outputs": [
    {
     "name": "stdout",
     "output_type": "stream",
     "text": [
      "[-156, -2, 1, 3, 6, 7, 8, 445]\n"
     ]
    }
   ],
   "source": [
    "a=[3,1,6,7,8,-2,445,-156]\n",
    "Solution().heap_sort(a)\n",
    "print(a)"
   ]
  },
  {
   "cell_type": "code",
   "execution_count": 93,
   "metadata": {},
   "outputs": [],
   "source": []
  },
  {
   "cell_type": "code",
   "execution_count": null,
   "metadata": {},
   "outputs": [],
   "source": []
  }
 ],
 "metadata": {
  "kernelspec": {
   "display_name": "Python 3",
   "language": "python",
   "name": "python3"
  },
  "language_info": {
   "codemirror_mode": {
    "name": "ipython",
    "version": 3
   },
   "file_extension": ".py",
   "mimetype": "text/x-python",
   "name": "python",
   "nbconvert_exporter": "python",
   "pygments_lexer": "ipython3",
   "version": "3.7.1"
  }
 },
 "nbformat": 4,
 "nbformat_minor": 2
}
