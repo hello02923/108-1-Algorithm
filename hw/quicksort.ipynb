{
 "cells": [
  {
   "cell_type": "code",
   "execution_count": 3,
   "metadata": {},
   "outputs": [],
   "source": [
    "def partition(array, left, right):\n",
    "    i = left-1\n",
    "    for j in range(left, right):\n",
    "        if array[j] <= array[right]:\n",
    "            i += 1\n",
    "            array[j], array[i] = array[i], array[j]\n",
    "    array[i+1], array[right] = array[right], array[i+1]\n",
    "    return i+1"
   ]
  },
  {
   "cell_type": "code",
   "execution_count": null,
   "metadata": {},
   "outputs": [],
   "source": [
    "####分裂\n",
    "####設left為array裡最左邊，right為array裡最右邊\n",
    "####i為array最左邊的前一個（一個空位）\n",
    "####設right 為基準點（pivot）\n",
    "####j進去array裡面一個個跟基準點比\n",
    "####當ｊ< pivot ，i往前，i&j互換位置，直到j>pivot，ｉ不會往前，變成i+1&pivot互變位置"
   ]
  },
  {
   "cell_type": "code",
   "execution_count": 4,
   "metadata": {},
   "outputs": [],
   "source": [
    "def quicksort(array, left, right):\n",
    "    if left < right:\n",
    "        pivot = partition(array, left, right)\n",
    "        quicksort(array, left, pivot-1)\n",
    "        quicksort(array, pivot+1, right)"
   ]
  },
  {
   "cell_type": "code",
   "execution_count": null,
   "metadata": {},
   "outputs": [],
   "source": [
    "####快排\n",
    "####當左邊的array 已經小於 右邊的array\n",
    "####那麼pivot-1就會是左邊的array，pivot+1就會是右邊的array\n"
   ]
  },
  {
   "cell_type": "code",
   "execution_count": null,
   "metadata": {},
   "outputs": [],
   "source": []
  },
  {
   "cell_type": "code",
   "execution_count": null,
   "metadata": {},
   "outputs": [],
   "source": []
  }
 ],
 "metadata": {
  "kernelspec": {
   "display_name": "Python 3",
   "language": "python",
   "name": "python3"
  },
  "language_info": {
   "codemirror_mode": {
    "name": "ipython",
    "version": 3
   },
   "file_extension": ".py",
   "mimetype": "text/x-python",
   "name": "python",
   "nbconvert_exporter": "python",
   "pygments_lexer": "ipython3",
   "version": "3.7.1"
  }
 },
 "nbformat": 4,
 "nbformat_minor": 2
}
