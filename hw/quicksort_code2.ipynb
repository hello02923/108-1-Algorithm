{
 "cells": [
  {
   "cell_type": "code",
   "execution_count": 24,
   "metadata": {},
   "outputs": [],
   "source": [
    "def partition(arr,left,right):\n",
    "    pivot=arr[right]##設基準點\n",
    "    i=left-1 ##想成一個隔板\n",
    "    for j in range (left,right):\n",
    "        if pivot >= arr[j]:\n",
    "            i+=1\n",
    "            arr[i],arr[j]=arr[j],arr[i]\n",
    "    arr[i+1],arr[right]=arr[right],arr[i+1]\n",
    "    return i+1"
   ]
  },
  {
   "cell_type": "code",
   "execution_count": 25,
   "metadata": {},
   "outputs": [],
   "source": [
    "def quicksort(arr, left, right):\n",
    "    if left>=right:\n",
    "        return\n",
    "    if left < right:\n",
    "        pivot = partition(arr, left, right)\n",
    "        quicksort(arr, left, pivot-1)\n",
    "        quicksort(arr, pivot+1, right)\n",
    "####這個迴圈會一直執行到兩數位置重疊\n",
    "####將陣列做切割，切成左邊的部份和右邊的部份\n",
    "####再將各邊做切割，直到不能再切割為止。"
   ]
  },
  {
   "cell_type": "code",
   "execution_count": 26,
   "metadata": {},
   "outputs": [
    {
     "name": "stdout",
     "output_type": "stream",
     "text": [
      "[0, 1, 2, 3, 4, 5, 6, 7, 8, 9]\n"
     ]
    }
   ],
   "source": [
    "arr = [3, 2, 1, 0, 9, 8, 7, 6, 5, 4]\n",
    "quicksort(arr, 0, 9)\n",
    "print (arr)"
   ]
  },
  {
   "cell_type": "code",
   "execution_count": null,
   "metadata": {},
   "outputs": [],
   "source": []
  },
  {
   "cell_type": "code",
   "execution_count": null,
   "metadata": {},
   "outputs": [],
   "source": []
  }
 ],
 "metadata": {
  "kernelspec": {
   "display_name": "Python 3",
   "language": "python",
   "name": "python3"
  },
  "language_info": {
   "codemirror_mode": {
    "name": "ipython",
    "version": 3
   },
   "file_extension": ".py",
   "mimetype": "text/x-python",
   "name": "python",
   "nbconvert_exporter": "python",
   "pygments_lexer": "ipython3",
   "version": "3.7.1"
  }
 },
 "nbformat": 4,
 "nbformat_minor": 2
}
