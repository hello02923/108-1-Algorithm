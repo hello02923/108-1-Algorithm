{
 "cells": [
  {
   "cell_type": "code",
   "execution_count": 3,
   "metadata": {},
   "outputs": [],
   "source": [
    "def partition(array, left, right):\n",
    "    i = left-1\n",
    "    for j in range(left, right):\n",
    "        if array[j] <= array[right]:\n",
    "            i += 1\n",
    "            array[j], array[i] = array[i], array[j]\n",
    "    array[i+1], array[right] = array[right], array[i+1]\n",
    "    return i+1"
   ]
  },
  {
   "cell_type": "code",
   "execution_count": null,
   "metadata": {},
   "outputs": [],
   "source": [
    "####做切割，想像為一個隔板\n",
    "####設left為array裡最左邊，right為array裡最右邊\n",
    "####i為array最左邊的前一個（一個空位）\n",
    "####設right 為基準點（pivot）\n",
    "####j進去array裡面一個個跟基準點比\n",
    "####當ｊ< pivot ，i往前，i&j互換位置 ; 但當j>pivot，ｉ不會往前\n",
    "####最後再 i+1&pivot互變位置"
   ]
  },
  {
   "cell_type": "code",
   "execution_count": 4,
   "metadata": {},
   "outputs": [],
   "source": [
    "def quicksort(array, left, right):\n",
    "    if left < right:\n",
    "        pivot = partition(array, left, right)\n",
    "        quicksort(array, left, pivot-1)\n",
    "        quicksort(array, pivot+1, right)"
   ]
  },
  {
   "cell_type": "code",
   "execution_count": null,
   "metadata": {},
   "outputs": [],
   "source": [
    "####這個迴圈會一直執行到兩數位置重疊\n",
    "####將陣列做切割，切成左邊的部份和右邊的部份\n",
    "####再將各邊做切割，直到不能再切割為止。"
   ]
  },
  {
   "cell_type": "code",
   "execution_count": null,
   "metadata": {},
   "outputs": [],
   "source": []
  },
  {
   "cell_type": "code",
   "execution_count": null,
   "metadata": {},
   "outputs": [],
   "source": []
  }
 ],
 "metadata": {
  "kernelspec": {
   "display_name": "Python 3",
   "language": "python",
   "name": "python3"
  },
  "language_info": {
   "codemirror_mode": {
    "name": "ipython",
    "version": 3
   },
   "file_extension": ".py",
   "mimetype": "text/x-python",
   "name": "python",
   "nbconvert_exporter": "python",
   "pygments_lexer": "ipython3",
   "version": "3.7.1"
  }
 },
 "nbformat": 4,
 "nbformat_minor": 2
}
